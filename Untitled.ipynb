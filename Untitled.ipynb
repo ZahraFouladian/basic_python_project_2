{
 "cells": [
  {
   "cell_type": "code",
   "execution_count": 106,
   "id": "7a0f1eca-6142-4eba-9e66-15cf0516df8b",
   "metadata": {
    "tags": []
   },
   "outputs": [],
   "source": [
    "from abc import ABC,abstractmethod\n",
    "import string\n",
    "import random\n",
    "import nltk"
   ]
  },
  {
   "cell_type": "code",
   "execution_count": 30,
   "id": "fde5dd0b-d3ec-4d5c-b473-2023bd0c1ef8",
   "metadata": {
    "tags": []
   },
   "outputs": [],
   "source": [
    "class PasswordGenerator(ABC):\n",
    "    @abstractmethod\n",
    "    def Generator(self):\n",
    "        pass"
   ]
  },
  {
   "cell_type": "code",
   "execution_count": 34,
   "id": "9871b556-91b2-4a72-8265-1d508e7127e5",
   "metadata": {
    "tags": []
   },
   "outputs": [],
   "source": [
    "class PinGenerator(PasswordGenerator):\n",
    "    def __init__(self, length):\n",
    "        self.length = length\n",
    "    def Generator(self):\n",
    "        return \"\".join([random.choice(string.digits) for _ in range(self.length)])"
   ]
  },
  {
   "cell_type": "code",
   "execution_count": 73,
   "id": "8ce7f5d1-0026-40a9-902d-8cc8eeb9cde8",
   "metadata": {
    "tags": []
   },
   "outputs": [],
   "source": [
    "class RandomPasswordGenerator(PasswordGenerator):\n",
    "    def __init__(self,length=8,include_number=False,include_symbol=False):\n",
    "        self.include_number = include_number\n",
    "        self.include_symbol = include_symbol\n",
    "        self.length = length\n",
    "    def Generator(self):\n",
    "        valid_char = string.ascii_lowercase\n",
    "        if self.include_number:\n",
    "            char_list += string.digits\n",
    "        if self.include_symbol:\n",
    "            char_list += string.punctuation\n",
    "            \n",
    "        return \"\".join([random.choice(char_list) for _ in range(self.length)])"
   ]
  },
  {
   "cell_type": "code",
   "execution_count": 119,
   "id": "02f76b5e-9a89-4b80-9c22-67297d06176c",
   "metadata": {
    "tags": []
   },
   "outputs": [],
   "source": [
    "class MemorablePasswordGenerator(PasswordGenerator):\n",
    "    def __init__(self, num_of_words=4, seprator=\"-\", capitalization=False, word_list=None):\n",
    "        self.num_of_words = num_of_words\n",
    "        self.seprator = seprator\n",
    "        self.capitalization = capitalization\n",
    "        self.word_list = word_list\n",
    "        \n",
    "    def Generator(self):\n",
    "        if self.word_list == None:\n",
    "            self.word_list = nltk.corpus.words.words()\n",
    "        password_word = self.seprator.join([random.choice(self.word_list) for _ in range(self.num_of_words)])\n",
    "        return password_word.upper() if self.capitalization else password_word"
   ]
  },
  {
   "cell_type": "code",
   "execution_count": 118,
   "id": "3716bb3c-8651-4c78-9443-c395f7662111",
   "metadata": {
    "tags": []
   },
   "outputs": [
    {
     "data": {
      "text/plain": [
       "'quailery-yearday-demethylate-typographically'"
      ]
     },
     "execution_count": 118,
     "metadata": {},
     "output_type": "execute_result"
    }
   ],
   "source": [
    "a = MemorablePasswordGenerator()\n",
    "a.Generator()"
   ]
  },
  {
   "cell_type": "code",
   "execution_count": null,
   "id": "66a51a21-13ef-4974-a25d-daf49a97baf8",
   "metadata": {},
   "outputs": [],
   "source": []
  },
  {
   "cell_type": "code",
   "execution_count": 112,
   "id": "f53d0dd7-691c-4ec6-9dae-756c80ff8d0e",
   "metadata": {
    "tags": []
   },
   "outputs": [
    {
     "data": {
      "text/plain": [
       "list"
      ]
     },
     "execution_count": 112,
     "metadata": {},
     "output_type": "execute_result"
    }
   ],
   "source": [
    "type(nltk.corpus.words.words())"
   ]
  },
  {
   "cell_type": "code",
   "execution_count": null,
   "id": "dea9f5c0-6952-496d-bb84-aa9269acd5b7",
   "metadata": {},
   "outputs": [],
   "source": []
  }
 ],
 "metadata": {
  "kernelspec": {
   "display_name": "Python 3 (ipykernel)",
   "language": "python",
   "name": "python3"
  },
  "language_info": {
   "codemirror_mode": {
    "name": "ipython",
    "version": 3
   },
   "file_extension": ".py",
   "mimetype": "text/x-python",
   "name": "python",
   "nbconvert_exporter": "python",
   "pygments_lexer": "ipython3",
   "version": "3.10.13"
  }
 },
 "nbformat": 4,
 "nbformat_minor": 5
}
